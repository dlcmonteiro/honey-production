{
 "cells": [
  {
   "cell_type": "markdown",
   "id": "dd1860a8",
   "metadata": {},
   "source": [
    "# Honey Production\n",
    "\n",
    "#### In this project we are going to investigate the decline of the honeybee population and how the trends of the past predict the future for them."
   ]
  },
  {
   "cell_type": "code",
   "execution_count": 1,
   "id": "1fc680e9",
   "metadata": {},
   "outputs": [],
   "source": [
    "# Import the libraries\n",
    "\n",
    "import pandas as pd\n",
    "import numpy as np\n",
    "import matplotlib.pyplot as plt\n",
    "from sklearn import linear_model"
   ]
  },
  {
   "cell_type": "code",
   "execution_count": 2,
   "id": "d04c9147",
   "metadata": {},
   "outputs": [
    {
     "data": {
      "text/html": [
       "<div>\n",
       "<style scoped>\n",
       "    .dataframe tbody tr th:only-of-type {\n",
       "        vertical-align: middle;\n",
       "    }\n",
       "\n",
       "    .dataframe tbody tr th {\n",
       "        vertical-align: top;\n",
       "    }\n",
       "\n",
       "    .dataframe thead th {\n",
       "        text-align: right;\n",
       "    }\n",
       "</style>\n",
       "<table border=\"1\" class=\"dataframe\">\n",
       "  <thead>\n",
       "    <tr style=\"text-align: right;\">\n",
       "      <th></th>\n",
       "      <th>state</th>\n",
       "      <th>numcol</th>\n",
       "      <th>yieldpercol</th>\n",
       "      <th>totalprod</th>\n",
       "      <th>stocks</th>\n",
       "      <th>priceperlb</th>\n",
       "      <th>prodvalue</th>\n",
       "      <th>year</th>\n",
       "    </tr>\n",
       "  </thead>\n",
       "  <tbody>\n",
       "    <tr>\n",
       "      <th>0</th>\n",
       "      <td>AL</td>\n",
       "      <td>16000.0</td>\n",
       "      <td>71</td>\n",
       "      <td>1136000.0</td>\n",
       "      <td>159000.0</td>\n",
       "      <td>0.72</td>\n",
       "      <td>818000.0</td>\n",
       "      <td>1998</td>\n",
       "    </tr>\n",
       "    <tr>\n",
       "      <th>1</th>\n",
       "      <td>AZ</td>\n",
       "      <td>55000.0</td>\n",
       "      <td>60</td>\n",
       "      <td>3300000.0</td>\n",
       "      <td>1485000.0</td>\n",
       "      <td>0.64</td>\n",
       "      <td>2112000.0</td>\n",
       "      <td>1998</td>\n",
       "    </tr>\n",
       "    <tr>\n",
       "      <th>2</th>\n",
       "      <td>AR</td>\n",
       "      <td>53000.0</td>\n",
       "      <td>65</td>\n",
       "      <td>3445000.0</td>\n",
       "      <td>1688000.0</td>\n",
       "      <td>0.59</td>\n",
       "      <td>2033000.0</td>\n",
       "      <td>1998</td>\n",
       "    </tr>\n",
       "    <tr>\n",
       "      <th>3</th>\n",
       "      <td>CA</td>\n",
       "      <td>450000.0</td>\n",
       "      <td>83</td>\n",
       "      <td>37350000.0</td>\n",
       "      <td>12326000.0</td>\n",
       "      <td>0.62</td>\n",
       "      <td>23157000.0</td>\n",
       "      <td>1998</td>\n",
       "    </tr>\n",
       "    <tr>\n",
       "      <th>4</th>\n",
       "      <td>CO</td>\n",
       "      <td>27000.0</td>\n",
       "      <td>72</td>\n",
       "      <td>1944000.0</td>\n",
       "      <td>1594000.0</td>\n",
       "      <td>0.70</td>\n",
       "      <td>1361000.0</td>\n",
       "      <td>1998</td>\n",
       "    </tr>\n",
       "  </tbody>\n",
       "</table>\n",
       "</div>"
      ],
      "text/plain": [
       "  state    numcol  yieldpercol   totalprod      stocks  priceperlb  \\\n",
       "0    AL   16000.0           71   1136000.0    159000.0        0.72   \n",
       "1    AZ   55000.0           60   3300000.0   1485000.0        0.64   \n",
       "2    AR   53000.0           65   3445000.0   1688000.0        0.59   \n",
       "3    CA  450000.0           83  37350000.0  12326000.0        0.62   \n",
       "4    CO   27000.0           72   1944000.0   1594000.0        0.70   \n",
       "\n",
       "    prodvalue  year  \n",
       "0    818000.0  1998  \n",
       "1   2112000.0  1998  \n",
       "2   2033000.0  1998  \n",
       "3  23157000.0  1998  \n",
       "4   1361000.0  1998  "
      ]
     },
     "execution_count": 2,
     "metadata": {},
     "output_type": "execute_result"
    }
   ],
   "source": [
    "# Load the honey production data\n",
    "\n",
    "hp_data = pd.read_csv('honeyproduction.csv')\n",
    "hp_data.head()"
   ]
  },
  {
   "cell_type": "code",
   "execution_count": 3,
   "id": "128454ec",
   "metadata": {},
   "outputs": [
    {
     "data": {
      "text/html": [
       "<div>\n",
       "<style scoped>\n",
       "    .dataframe tbody tr th:only-of-type {\n",
       "        vertical-align: middle;\n",
       "    }\n",
       "\n",
       "    .dataframe tbody tr th {\n",
       "        vertical-align: top;\n",
       "    }\n",
       "\n",
       "    .dataframe thead th {\n",
       "        text-align: right;\n",
       "    }\n",
       "</style>\n",
       "<table border=\"1\" class=\"dataframe\">\n",
       "  <thead>\n",
       "    <tr style=\"text-align: right;\">\n",
       "      <th></th>\n",
       "      <th>year</th>\n",
       "      <th>totalprod</th>\n",
       "    </tr>\n",
       "  </thead>\n",
       "  <tbody>\n",
       "    <tr>\n",
       "      <th>0</th>\n",
       "      <td>1998</td>\n",
       "      <td>5.105093e+06</td>\n",
       "    </tr>\n",
       "    <tr>\n",
       "      <th>1</th>\n",
       "      <td>1999</td>\n",
       "      <td>4.706674e+06</td>\n",
       "    </tr>\n",
       "    <tr>\n",
       "      <th>2</th>\n",
       "      <td>2000</td>\n",
       "      <td>5.106000e+06</td>\n",
       "    </tr>\n",
       "    <tr>\n",
       "      <th>3</th>\n",
       "      <td>2001</td>\n",
       "      <td>4.221545e+06</td>\n",
       "    </tr>\n",
       "    <tr>\n",
       "      <th>4</th>\n",
       "      <td>2002</td>\n",
       "      <td>3.892386e+06</td>\n",
       "    </tr>\n",
       "    <tr>\n",
       "      <th>5</th>\n",
       "      <td>2003</td>\n",
       "      <td>4.122091e+06</td>\n",
       "    </tr>\n",
       "    <tr>\n",
       "      <th>6</th>\n",
       "      <td>2004</td>\n",
       "      <td>4.456805e+06</td>\n",
       "    </tr>\n",
       "    <tr>\n",
       "      <th>7</th>\n",
       "      <td>2005</td>\n",
       "      <td>4.243146e+06</td>\n",
       "    </tr>\n",
       "    <tr>\n",
       "      <th>8</th>\n",
       "      <td>2006</td>\n",
       "      <td>3.761902e+06</td>\n",
       "    </tr>\n",
       "    <tr>\n",
       "      <th>9</th>\n",
       "      <td>2007</td>\n",
       "      <td>3.600512e+06</td>\n",
       "    </tr>\n",
       "    <tr>\n",
       "      <th>10</th>\n",
       "      <td>2008</td>\n",
       "      <td>3.974927e+06</td>\n",
       "    </tr>\n",
       "    <tr>\n",
       "      <th>11</th>\n",
       "      <td>2009</td>\n",
       "      <td>3.626700e+06</td>\n",
       "    </tr>\n",
       "    <tr>\n",
       "      <th>12</th>\n",
       "      <td>2010</td>\n",
       "      <td>4.382350e+06</td>\n",
       "    </tr>\n",
       "    <tr>\n",
       "      <th>13</th>\n",
       "      <td>2011</td>\n",
       "      <td>3.680025e+06</td>\n",
       "    </tr>\n",
       "    <tr>\n",
       "      <th>14</th>\n",
       "      <td>2012</td>\n",
       "      <td>3.522675e+06</td>\n",
       "    </tr>\n",
       "  </tbody>\n",
       "</table>\n",
       "</div>"
      ],
      "text/plain": [
       "    year     totalprod\n",
       "0   1998  5.105093e+06\n",
       "1   1999  4.706674e+06\n",
       "2   2000  5.106000e+06\n",
       "3   2001  4.221545e+06\n",
       "4   2002  3.892386e+06\n",
       "5   2003  4.122091e+06\n",
       "6   2004  4.456805e+06\n",
       "7   2005  4.243146e+06\n",
       "8   2006  3.761902e+06\n",
       "9   2007  3.600512e+06\n",
       "10  2008  3.974927e+06\n",
       "11  2009  3.626700e+06\n",
       "12  2010  4.382350e+06\n",
       "13  2011  3.680025e+06\n",
       "14  2012  3.522675e+06"
      ]
     },
     "execution_count": 3,
     "metadata": {},
     "output_type": "execute_result"
    }
   ],
   "source": [
    "# Calculate the mean of the total production per year\n",
    "\n",
    "prod_per_year = hp_data.groupby('year').totalprod.mean().reset_index()\n",
    "prod_per_year"
   ]
  },
  {
   "cell_type": "code",
   "execution_count": 9,
   "id": "eb3b100e",
   "metadata": {},
   "outputs": [],
   "source": [
    "# Create a variable X for the column of years and reshape it\n",
    "\n",
    "X = prod_per_year['year']\n",
    "X = X.values.reshape(-1, 1)"
   ]
  },
  {
   "cell_type": "code",
   "execution_count": 10,
   "id": "41945687",
   "metadata": {},
   "outputs": [],
   "source": [
    "# Create a variable y for the column of total production\n",
    "\n",
    "y = prod_per_year['totalprod']"
   ]
  },
  {
   "cell_type": "code",
   "execution_count": 11,
   "id": "c617f415",
   "metadata": {},
   "outputs": [
    {
     "data": {
      "image/png": "[encoded data removed]",
      "text/plain": [
       "<Figure size 432x288 with 1 Axes>"
      ]
     },
     "metadata": {
      "needs_background": "light"
     },
     "output_type": "display_data"
    }
   ],
   "source": [
    "# Create a scatterplot of the variables\n",
    "\n",
    "plt.scatter(X, y)\n",
    "plt.show()"
   ]
  },
  {
   "cell_type": "code",
   "execution_count": 13,
   "id": "277ab24a",
   "metadata": {},
   "outputs": [
    {
     "data": {
      "text/plain": [
       "LinearRegression()"
      ]
     },
     "execution_count": 13,
     "metadata": {},
     "output_type": "execute_result"
    }
   ],
   "source": [
    "# Create a linear regression model and fit it with the variables\n",
    "\n",
    "regr = linear_model.LinearRegression()\n",
    "regr.fit(X, y)"
   ]
  },
  {
   "cell_type": "code",
   "execution_count": 16,
   "id": "829596c2",
   "metadata": {},
   "outputs": [
    {
     "data": {
      "text/plain": [
       "(-88303.18915238192, 181208083.10732976)"
      ]
     },
     "execution_count": 16,
     "metadata": {},
     "output_type": "execute_result"
    }
   ],
   "source": [
    "# Print the slope (coef.) of the line and the intercept\n",
    "\n",
    "regr.coef_[0], regr.intercept_"
   ]
  },
  {
   "cell_type": "code",
   "execution_count": 17,
   "id": "888b0686",
   "metadata": {},
   "outputs": [
    {
     "data": {
      "text/plain": [
       "array([4778311.18087068, 4690007.99171829, 4601704.8025659 ,\n",
       "       4513401.61341354, 4425098.42426115, 4336795.23510876,\n",
       "       4248492.04595637, 4160188.85680401, 4071885.66765162,\n",
       "       3983582.47849923, 3895279.28934684, 3806976.10019448,\n",
       "       3718672.91104209, 3630369.7218897 , 3542066.53273734])"
      ]
     },
     "execution_count": 17,
     "metadata": {},
     "output_type": "execute_result"
    }
   ],
   "source": [
    "# Create a list that is the predictions\n",
    "\n",
    "y_predict = regr.predict(X)\n",
    "y_predict"
   ]
  },
  {
   "cell_type": "code",
   "execution_count": 20,
   "id": "8435ce4f",
   "metadata": {},
   "outputs": [
    {
     "data": {
      "image/png": "[encoded data removed]",
      "text/plain": [
       "<Figure size 432x288 with 1 Axes>"
      ]
     },
     "metadata": {
      "needs_background": "light"
     },
     "output_type": "display_data"
    }
   ],
   "source": [
    "# Plot the line\n",
    "\n",
    "plt.scatter(X, y)\n",
    "plt.plot(X, y_predict)\n",
    "plt.show()"
   ]
  },
  {
   "cell_type": "code",
   "execution_count": 21,
   "id": "dd05bc11",
   "metadata": {},
   "outputs": [
    {
     "data": {
      "text/plain": [
       "array([[2013],\n",
       "       [2014],\n",
       "       [2015],\n",
       "       [2016],\n",
       "       [2017],\n",
       "       [2018],\n",
       "       [2019],\n",
       "       [2020],\n",
       "       [2021],\n",
       "       [2022],\n",
       "       [2023],\n",
       "       [2024],\n",
       "       [2025],\n",
       "       [2026],\n",
       "       [2027],\n",
       "       [2028],\n",
       "       [2029],\n",
       "       [2030],\n",
       "       [2031],\n",
       "       [2032],\n",
       "       [2033],\n",
       "       [2034],\n",
       "       [2035],\n",
       "       [2036],\n",
       "       [2037],\n",
       "       [2038],\n",
       "       [2039],\n",
       "       [2040],\n",
       "       [2041],\n",
       "       [2042],\n",
       "       [2043],\n",
       "       [2044],\n",
       "       [2045],\n",
       "       [2046],\n",
       "       [2047],\n",
       "       [2048],\n",
       "       [2049]])"
      ]
     },
     "execution_count": 21,
     "metadata": {},
     "output_type": "execute_result"
    }
   ],
   "source": [
    "# Create a NumPy array that is the range from 2013 to 2050\n",
    "\n",
    "X_future = np.array(range(2013, 2050))\n",
    "X_future = X_future.reshape(-1, 1)\n",
    "X_future"
   ]
  },
  {
   "cell_type": "code",
   "execution_count": 22,
   "id": "1f071c11",
   "metadata": {},
   "outputs": [
    {
     "data": {
      "text/plain": [
       "array([3453763.34358495, 3365460.15443256, 3277156.96528018,\n",
       "       3188853.77612782, 3100550.58697543, 3012247.39782304,\n",
       "       2923944.20867065, 2835641.01951829, 2747337.8303659 ,\n",
       "       2659034.64121351, 2570731.45206112, 2482428.26290876,\n",
       "       2394125.07375637, 2305821.88460398, 2217518.69545159,\n",
       "       2129215.50629923, 2040912.31714684, 1952609.12799445,\n",
       "       1864305.93884209, 1776002.7496897 , 1687699.56053731,\n",
       "       1599396.37138492, 1511093.18223256, 1422789.99308017,\n",
       "       1334486.80392778, 1246183.61477539, 1157880.42562303,\n",
       "       1069577.23647064,  981274.04731825,  892970.85816586,\n",
       "        804667.6690135 ,  716364.47986111,  628061.29070872,\n",
       "        539758.10155633,  451454.91240397,  363151.72325158,\n",
       "        274848.53409919])"
      ]
     },
     "execution_count": 22,
     "metadata": {},
     "output_type": "execute_result"
    }
   ],
   "source": [
    "# Create a future_predict list that is the y-values of the regr model prediction for the values of X_future\n",
    "\n",
    "future_predict = regr.predict(X_future)\n",
    "future_predict"
   ]
  },
  {
   "cell_type": "code",
   "execution_count": 24,
   "id": "6de62af8",
   "metadata": {},
   "outputs": [
    {
     "data": {
      "image/png": "[encoded data removed]",
      "text/plain": [
       "<Figure size 432x288 with 1 Axes>"
      ]
     },
     "metadata": {
      "needs_background": "light"
     },
     "output_type": "display_data"
    }
   ],
   "source": [
    "# Plot future prediction vs. the values for X_future\n",
    "\n",
    "plt.scatter(X, y)\n",
    "plt.plot(X, y_predict)\n",
    "plt.plot(X_future, future_predict)\n",
    "plt.show()"
   ]
  },
  {
   "cell_type": "code",
   "execution_count": null,
   "id": "c470e5d2",
   "metadata": {},
   "outputs": [],
   "source": []
  }
 ],
 "metadata": {
  "kernelspec": {
   "display_name": "Python 3 (ipykernel)",
   "language": "python",
   "name": "python3"
  },
  "language_info": {
   "codemirror_mode": {
    "name": "ipython",
    "version": 3
   },
   "file_extension": ".py",
   "mimetype": "text/x-python",
   "name": "python",
   "nbconvert_exporter": "python",
   "pygments_lexer": "ipython3",
   "version": "3.9.12"
  }
 },
 "nbformat": 4,
 "nbformat_minor": 5
}
